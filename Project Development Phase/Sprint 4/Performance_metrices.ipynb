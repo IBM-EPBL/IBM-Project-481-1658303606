{
  "nbformat": 4,
  "nbformat_minor": 0,
  "metadata": {
    "colab": {
      "provenance": []
    },
    "kernelspec": {
      "name": "python3",
      "display_name": "Python 3"
    },
    "language_info": {
      "name": "python"
    }
  },
  "cells": [
    {
      "cell_type": "code",
      "execution_count": null,
      "metadata": {
        "colab": {
          "base_uri": "https://localhost:8080/"
        },
        "id": "thiCbqvmhN0l",
        "outputId": "8db94dc0-0ba8-4112-c24a-ca2ef4e1ab8c"
      },
      "outputs": [
        {
          "output_type": "stream",
          "name": "stdout",
          "text": [
            "Found 30 images belonging to 6 classes.\n"
          ]
        }
      ],
      "source": [
        "from tensorflow.keras.preprocessing.image import ImageDataGenerator\n",
        "valid_datagen=ImageDataGenerator(rescale=1./255)\n",
        "valid_gen=valid_datagen.flow_from_directory(\n",
        "    '/content/drive/MyDrive/handgesturedataset/dataset/test',\n",
        "    target_size=(128,128),\n",
        "    batch_size=30,\n",
        "    color_mode='grayscale',\n",
        "    class_mode='categorical'\n",
        ")"
      ]
    },
    {
      "cell_type": "code",
      "source": [
        "from tensorflow.keras.preprocessing.image import ImageDataGenerator\n",
        "train_datagen=ImageDataGenerator(rescale=1./255,shear_range=0.2,zoom_range=0.2,horizontal_flip=True)\n",
        "train_gen=train_datagen.flow_from_directory(\n",
        "    '/content/drive/MyDrive/handgesturedataset/dataset/train',\n",
        "    target_size=(128,128),\n",
        "    batch_size=198,\n",
        "    color_mode='grayscale',\n",
        "    class_mode='categorical'\n",
        ")"
      ],
      "metadata": {
        "colab": {
          "base_uri": "https://localhost:8080/"
        },
        "id": "u21nba7lnG-7",
        "outputId": "389d484f-341b-454f-d759-085cf4e4e29d"
      },
      "execution_count": null,
      "outputs": [
        {
          "output_type": "stream",
          "name": "stdout",
          "text": [
            "Found 2376 images belonging to 6 classes.\n"
          ]
        }
      ]
    },
    {
      "cell_type": "code",
      "source": [
        "from keras.models import load_model\n",
        "model=load_model('/content/drive/MyDrive/ibmhandgesture.h5')"
      ],
      "metadata": {
        "id": "gWfKe17oiCjT"
      },
      "execution_count": null,
      "outputs": []
    },
    {
      "cell_type": "code",
      "source": [
        "x_test,y_test=valid_gen.__getitem__(0)"
      ],
      "metadata": {
        "id": "_VQ9b5Cpih7V"
      },
      "execution_count": null,
      "outputs": []
    },
    {
      "cell_type": "code",
      "source": [
        "import numpy as np\n",
        "y_test=np.argmax(y_test,axis=1)"
      ],
      "metadata": {
        "id": "sh_27XvbkLWh"
      },
      "execution_count": null,
      "outputs": []
    },
    {
      "cell_type": "code",
      "source": [
        "y_test"
      ],
      "metadata": {
        "colab": {
          "base_uri": "https://localhost:8080/"
        },
        "id": "6wV7sHoQipmW",
        "outputId": "bee01566-5992-40fe-e9bf-4ffc517a2ea8"
      },
      "execution_count": null,
      "outputs": [
        {
          "output_type": "execute_result",
          "data": {
            "text/plain": [
              "array([5, 4, 1, 2, 5, 4, 0, 3, 1, 5, 3, 3, 2, 1, 1, 0, 2, 5, 2, 0, 1, 4,\n",
              "       3, 4, 3, 4, 0, 5, 2, 0])"
            ]
          },
          "metadata": {},
          "execution_count": 14
        }
      ]
    },
    {
      "cell_type": "code",
      "source": [
        "y_pred=model.predict(x_test)"
      ],
      "metadata": {
        "colab": {
          "base_uri": "https://localhost:8080/"
        },
        "id": "KQS0tD6lirx1",
        "outputId": "4c60d1c1-af85-4f17-ab4b-6f8fd39c9465"
      },
      "execution_count": null,
      "outputs": [
        {
          "output_type": "stream",
          "name": "stdout",
          "text": [
            "1/1 [==============================] - 1s 516ms/step\n"
          ]
        }
      ]
    },
    {
      "cell_type": "code",
      "source": [
        "import numpy as np\n",
        "y_pred=np.argmax(y_pred,axis=1)"
      ],
      "metadata": {
        "id": "Q6AgQwuBi2he"
      },
      "execution_count": null,
      "outputs": []
    },
    {
      "cell_type": "code",
      "source": [
        "y_pred"
      ],
      "metadata": {
        "colab": {
          "base_uri": "https://localhost:8080/"
        },
        "id": "XTpi_yUwi4LJ",
        "outputId": "ed92ffca-bed6-48c3-db1e-d75f14339eab"
      },
      "execution_count": null,
      "outputs": [
        {
          "output_type": "execute_result",
          "data": {
            "text/plain": [
              "array([5, 4, 1, 2, 5, 4, 0, 3, 1, 5, 5, 3, 2, 1, 1, 0, 1, 5, 2, 0, 1, 4,\n",
              "       3, 4, 3, 4, 0, 5, 2, 0])"
            ]
          },
          "metadata": {},
          "execution_count": 15
        }
      ]
    },
    {
      "cell_type": "code",
      "source": [
        "import keras.backend as K \n",
        "def accuracy(y_true, y_pred):\n",
        "  return K.mean(K.equal(y_true, K.round(y_pred)))"
      ],
      "metadata": {
        "id": "J3Dqbg4yi90a"
      },
      "execution_count": null,
      "outputs": []
    },
    {
      "cell_type": "code",
      "source": [
        "from sklearn.metrics import accuracy_score,classification_report,confusion_matrix"
      ],
      "metadata": {
        "id": "rFneAAxDjFuV"
      },
      "execution_count": null,
      "outputs": []
    },
    {
      "cell_type": "code",
      "source": [
        "print(\"Gesture Recognition model accuracy:{:.4f}\".format(accuracy(y_test, y_pred)))\n",
        "print(classification_report(y_test, y_pred))"
      ],
      "metadata": {
        "colab": {
          "base_uri": "https://localhost:8080/"
        },
        "id": "n8gLIzPSjJiG",
        "outputId": "cb04c682-5598-49d7-cd63-510d036c44cb"
      },
      "execution_count": null,
      "outputs": [
        {
          "output_type": "stream",
          "name": "stdout",
          "text": [
            "Gesture Recognition model accuracy:0.9333\n",
            "              precision    recall  f1-score   support\n",
            "\n",
            "           0       1.00      1.00      1.00         5\n",
            "           1       0.83      1.00      0.91         5\n",
            "           2       1.00      0.80      0.89         5\n",
            "           3       1.00      0.80      0.89         5\n",
            "           4       1.00      1.00      1.00         5\n",
            "           5       0.83      1.00      0.91         5\n",
            "\n",
            "    accuracy                           0.93        30\n",
            "   macro avg       0.94      0.93      0.93        30\n",
            "weighted avg       0.94      0.93      0.93        30\n",
            "\n"
          ]
        }
      ]
    },
    {
      "cell_type": "code",
      "source": [
        "accu = np.count_nonzero(np.equal(y_pred,y_test))/x_test.shape[0]\n",
        "print(\"Accuracy: {} %\".format(accu*100))"
      ],
      "metadata": {
        "colab": {
          "base_uri": "https://localhost:8080/"
        },
        "id": "452d-aOWlCyp",
        "outputId": "90ca5d3c-b701-480e-e87f-b7bc81bafbb4"
      },
      "execution_count": null,
      "outputs": [
        {
          "output_type": "stream",
          "name": "stdout",
          "text": [
            "Accuracy: 93.33333333333333 %\n"
          ]
        }
      ]
    },
    {
      "cell_type": "code",
      "source": [
        "classes = list(train_gen.class_indices.keys())"
      ],
      "metadata": {
        "id": "GsnCbLNnki-u"
      },
      "execution_count": null,
      "outputs": []
    },
    {
      "cell_type": "code",
      "source": [
        "#Confusion matrix for test data Classification\n",
        "import pandas as pd\n",
        "import seaborn as sns\n",
        "import matplotlib.pyplot as plt\n",
        "df_cmatrix = pd.DataFrame(confusion_matrix(y_test, y_pred),index=classes, columns=classes)\n",
        "sns.set(font_scale=1.0)\n",
        "fig,ax = plt.subplots(figsize=(16,12))\n",
        "sns.heatmap(df_cmatrix, annot=True,annot_kws={\"size\": 15},fmt='2g')"
      ],
      "metadata": {
        "colab": {
          "base_uri": "https://localhost:8080/",
          "height": 724
        },
        "id": "QT--SwMBnFrT",
        "outputId": "2825e358-af0b-40b0-df27-0d7f09697441"
      },
      "execution_count": null,
      "outputs": [
        {
          "output_type": "execute_result",
          "data": {
            "text/plain": [
              "<matplotlib.axes._subplots.AxesSubplot at 0x7f7f518da790>"
            ]
          },
          "metadata": {},
          "execution_count": 26
        },
        {
          "output_type": "display_data",
          "data": {
            "text/plain": [
              "<Figure size 1152x864 with 2 Axes>"
            ],
            "image/png": "[encoded data removed]"
          },
          "metadata": {}
        }
      ]
    },
    {
      "cell_type": "code",
      "source": [
        "import sklearn.metrics as metrics"
      ],
      "metadata": {
        "id": "2HmEWNJ8pgXG"
      },
      "execution_count": null,
      "outputs": []
    },
    {
      "cell_type": "code",
      "source": [
        "fpr,tpr,threshold = metrics.roc_curve(y_test,y_pred,pos_label=1)"
      ],
      "metadata": {
        "id": "sLqhLMMlpht6"
      },
      "execution_count": null,
      "outputs": []
    },
    {
      "cell_type": "code",
      "source": [
        "fpr"
      ],
      "metadata": {
        "colab": {
          "base_uri": "https://localhost:8080/"
        },
        "id": "SrMnfKR8p_YM",
        "outputId": "dc9f0f22-0dd2-4728-c3bc-773e539b3f93"
      },
      "execution_count": null,
      "outputs": [
        {
          "output_type": "execute_result",
          "data": {
            "text/plain": [
              "array([0.  , 0.24, 0.44, 0.76, 0.8 , 1.  ])"
            ]
          },
          "metadata": {},
          "execution_count": 31
        }
      ]
    },
    {
      "cell_type": "code",
      "source": [
        "tpr"
      ],
      "metadata": {
        "colab": {
          "base_uri": "https://localhost:8080/"
        },
        "id": "xKUsEMMWqCSh",
        "outputId": "47f1822e-b5bb-4986-b9f8-a204e14974fe"
      },
      "execution_count": null,
      "outputs": [
        {
          "output_type": "execute_result",
          "data": {
            "text/plain": [
              "array([0., 0., 0., 0., 1., 1.])"
            ]
          },
          "metadata": {},
          "execution_count": 32
        }
      ]
    },
    {
      "cell_type": "code",
      "source": [
        "threshold"
      ],
      "metadata": {
        "colab": {
          "base_uri": "https://localhost:8080/"
        },
        "id": "F-VxopbBqEl1",
        "outputId": "5699e21d-9425-4acb-af44-fa139e76ce16"
      },
      "execution_count": null,
      "outputs": [
        {
          "output_type": "execute_result",
          "data": {
            "text/plain": [
              "array([6, 5, 4, 2, 1, 0])"
            ]
          },
          "metadata": {},
          "execution_count": 33
        }
      ]
    },
    {
      "cell_type": "code",
      "source": [
        "roc_auc = metrics.auc(fpr,tpr)"
      ],
      "metadata": {
        "id": "j0hofPuBqIER"
      },
      "execution_count": null,
      "outputs": []
    },
    {
      "cell_type": "code",
      "source": [
        "roc_auc"
      ],
      "metadata": {
        "colab": {
          "base_uri": "https://localhost:8080/"
        },
        "id": "OKIz767eqOdS",
        "outputId": "c49a8dc5-7fcc-478d-9bad-15f62bd6a055"
      },
      "execution_count": null,
      "outputs": [
        {
          "output_type": "execute_result",
          "data": {
            "text/plain": [
              "0.21999999999999997"
            ]
          },
          "metadata": {},
          "execution_count": 36
        }
      ]
    },
    {
      "cell_type": "code",
      "source": [
        "import matplotlib.pyplot as plt\n",
        "plt.title(\"ROC\")\n",
        "plt.plot(fpr,tpr,'b',label='AUC=%0.2f%roc_auc')\n",
        "plt.legend(loc = \"lower right\")\n",
        "\n",
        "plt.plot([0,1],[0,1],'r--')\n",
        "plt.xlim([0,1])\n",
        "plt.ylim([0,1])\n",
        "plt.xlabel('False positive rate')\n",
        "plt.ylabel('True positive rate')\n",
        "plt.show()"
      ],
      "metadata": {
        "colab": {
          "base_uri": "https://localhost:8080/",
          "height": 301
        },
        "id": "SB7f7AKQqSHJ",
        "outputId": "cdbfb944-3d98-4d64-e470-ec1f110c17e8"
      },
      "execution_count": null,
      "outputs": [
        {
          "output_type": "display_data",
          "data": {
            "text/plain": [
              "<Figure size 432x288 with 1 Axes>"
            ],
            "image/png": "[encoded data removed]"
          },
          "metadata": {}
        }
      ]
    }
  ]
}